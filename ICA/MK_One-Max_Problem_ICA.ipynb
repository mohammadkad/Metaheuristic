{
 "cells": [
  {
   "cell_type": "code",
   "execution_count": 9,
   "id": "d51417f6",
   "metadata": {},
   "outputs": [
    {
     "name": "stdout",
     "output_type": "stream",
     "text": [
      "Best country: [1, 0, 0, 0, 0, 1, 0, 0, 0, 1, 0, 0, 0, 1, 0, 0, 0, 0, 1, 0]\n",
      "Number of ones: 5\n"
     ]
    }
   ],
   "source": [
    "import random\n",
    "import numpy as np\n",
    "\n",
    "def initialize_countries(num_countries, num_cities, num_variables):\n",
    "    countries = []\n",
    "    for _ in range(num_countries):\n",
    "        country = [random.randint(0, 1) for _ in range(num_variables)]\n",
    "        countries.append(country)\n",
    "    return countries\n",
    "\n",
    "def calculate_cost(country):\n",
    "    return sum(country)\n",
    "\n",
    "def imperialist_competitive_algorithm(num_countries, num_cities, num_variables, max_iterations):\n",
    "    countries = initialize_countries(num_countries, num_cities, num_variables)\n",
    "    costs = [calculate_cost(country) for country in countries]\n",
    "    empires = []\n",
    "    colonies = []\n",
    "\n",
    "    for _ in range(max_iterations):\n",
    "        # Sort countries based on their costs\n",
    "        sorted_indices = np.argsort(costs)\n",
    "        countries = [countries[i] for i in sorted_indices]\n",
    "        costs = [costs[i] for i in sorted_indices]\n",
    "\n",
    "        # Create empires\n",
    "        empires = []\n",
    "        for i in range(num_countries // 2):\n",
    "            empire = {'imperialist': countries[i], 'colonies': []}\n",
    "            empires.append(empire)\n",
    "\n",
    "        # Assign colonies to empires\n",
    "        colonies = countries[num_countries // 2:]\n",
    "        for colony in colonies:\n",
    "            # Randomly select an empire and add the colony to it\n",
    "            empire_index = random.randint(0, len(empires) - 1)\n",
    "            empires[empire_index]['colonies'].append(colony)\n",
    "\n",
    "        # Move colonies towards their imperialist\n",
    "        for empire in empires:\n",
    "            for colony in empire['colonies']:\n",
    "                # Randomly select a variable and change it to match the imperialist\n",
    "                variable_index = random.randint(0, num_variables - 1)\n",
    "                colony[variable_index] = empire['imperialist'][variable_index]\n",
    "\n",
    "        # Calculate new costs for colonies\n",
    "        new_costs = []\n",
    "        for empire in empires:\n",
    "            for colony in empire['colonies']:\n",
    "                new_cost = calculate_cost(colony)\n",
    "                new_costs.append(new_cost)\n",
    "\n",
    "        # Update colonies with new costs\n",
    "        colonies = [country for country, cost in zip(colonies, new_costs) if cost > calculate_cost(country)]\n",
    "\n",
    "        # Update empires with new colonies\n",
    "        for empire in empires:\n",
    "            empire['colonies'] = colonies\n",
    "\n",
    "        # Update costs\n",
    "        costs = [calculate_cost(country) for country in countries]\n",
    "\n",
    "    # Return the best country\n",
    "    best_country_index = np.argmax(costs)\n",
    "    return countries[best_country_index]\n",
    "\n",
    "# Example usage\n",
    "num_countries = 10\n",
    "num_cities = 5\n",
    "num_variables = 20\n",
    "max_iterations = 100\n",
    "\n",
    "best_country = imperialist_competitive_algorithm(num_countries, num_cities, num_variables, max_iterations)\n",
    "print(\"Best country:\", best_country)\n",
    "print(\"Number of ones:\", sum(best_country))\n"
   ]
  }
 ],
 "metadata": {
  "kernelspec": {
   "display_name": "Python 3 (ipykernel)",
   "language": "python",
   "name": "python3"
  },
  "language_info": {
   "codemirror_mode": {
    "name": "ipython",
    "version": 3
   },
   "file_extension": ".py",
   "mimetype": "text/x-python",
   "name": "python",
   "nbconvert_exporter": "python",
   "pygments_lexer": "ipython3",
   "version": "3.11.1"
  }
 },
 "nbformat": 4,
 "nbformat_minor": 5
}
