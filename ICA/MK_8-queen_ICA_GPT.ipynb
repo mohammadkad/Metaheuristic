{
 "cells": [
  {
   "cell_type": "code",
   "execution_count": 1,
   "id": "7f3c3286",
   "metadata": {},
   "outputs": [
    {
     "name": "stdout",
     "output_type": "stream",
     "text": [
      "Best Solution (Queen positions): [5 2 4 6 0 3 1 7]\n",
      "Best Fitness (Non-attacking pairs): 28\n"
     ]
    }
   ],
   "source": [
    "import numpy as np\n",
    "\n",
    "def create_individual(size):\n",
    "    \"\"\" Create a random individual for the 8-Queens problem. \"\"\"\n",
    "    return np.random.permutation(size)\n",
    "\n",
    "def evaluate(individual):\n",
    "    \"\"\" Evaluate the fitness of an individual (number of non-attacking pairs of queens). \"\"\"\n",
    "    size = len(individual)\n",
    "    attacks = 0\n",
    "    for i in range(size):\n",
    "        for j in range(i + 1, size):\n",
    "            if abs(individual[i] - individual[j]) == abs(i - j):\n",
    "                attacks += 1\n",
    "    return size * (size - 1) // 2 - attacks  # Max pairs - attacking pairs\n",
    "\n",
    "def revolution(individual, revolution_factor):\n",
    "    \"\"\" Apply revolution to an individual with a given revolution factor. \"\"\"\n",
    "    for i in range(len(individual)):\n",
    "        if np.random.rand() < revolution_factor:\n",
    "            individual[i] = np.random.randint(len(individual))  # Randomly change the column\n",
    "    return individual\n",
    "\n",
    "def imperialist_competitive_algorithm(population_size, size, num_empires, max_iterations, revolution_factor):\n",
    "    # Initialize individuals\n",
    "    individuals = [create_individual(size) for _ in range(population_size)]\n",
    "    \n",
    "    # Form empires\n",
    "    empires = [individuals[i::num_empires] for i in range(num_empires)]\n",
    "    \n",
    "    for iteration in range(max_iterations):\n",
    "        # Evaluate fitness of individuals in each empire\n",
    "        fitness = [evaluate(ind) for ind in individuals]\n",
    "        \n",
    "        # Update imperialists\n",
    "        imperialists = [max(empire, key=evaluate) for empire in empires]\n",
    "\n",
    "        # Competition and assimilation\n",
    "        for i, empire in enumerate(empires):\n",
    "            for individual in empire:\n",
    "                if not np.array_equal(individual, imperialists[i]):\n",
    "                    # Move towards imperialist\n",
    "                    for j in range(size):\n",
    "                        if np.random.rand() < 0.5:  # 50% chance to inherit from imperialist\n",
    "                            individual[j] = imperialists[i][j]\n",
    "                    # Apply revolution\n",
    "                    individual = revolution(individual, revolution_factor)\n",
    "\n",
    "        # Combine all individuals and sort by fitness\n",
    "        all_individuals = [ind for empire in empires for ind in empire]\n",
    "        all_individuals.sort(key=evaluate, reverse=True)\n",
    "        \n",
    "        # Keep the best individuals\n",
    "        individuals = all_individuals[:population_size]\n",
    "\n",
    "        # Re-form empires\n",
    "        empires = [individuals[i::num_empires] for i in range(num_empires)]\n",
    "\n",
    "    # Return the best solution found\n",
    "    best_individual = max(individuals, key=evaluate)\n",
    "    return best_individual, evaluate(best_individual)\n",
    "\n",
    "# Parameters\n",
    "population_size = 100\n",
    "size = 8  # 8-Queens\n",
    "num_empires = 5\n",
    "max_iterations = 1000\n",
    "revolution_factor = 0.1  # 10% chance to change a queen's position\n",
    "\n",
    "# Run the ICA\n",
    "best_solution, best_fitness = imperialist_competitive_algorithm(population_size, size, num_empires, max_iterations, revolution_factor)\n",
    "\n",
    "print(\"Best Solution (Queen positions):\", best_solution)\n",
    "print(\"Best Fitness (Non-attacking pairs):\", best_fitness)\n"
   ]
  },
  {
   "cell_type": "code",
   "execution_count": 10,
   "id": "d5c9c310",
   "metadata": {},
   "outputs": [
    {
     "data": {
      "text/plain": [
       "0"
      ]
     },
     "execution_count": 10,
     "metadata": {},
     "output_type": "execute_result"
    }
   ],
   "source": [
    "evaluate([[2, 3, 5, 6, 4, 7, 1, 0]])"
   ]
  },
  {
   "cell_type": "code",
   "execution_count": 9,
   "id": "b52b90af",
   "metadata": {},
   "outputs": [
    {
     "data": {
      "text/plain": [
       "array([2, 3, 5, 6, 4, 7, 1, 0])"
      ]
     },
     "execution_count": 9,
     "metadata": {},
     "output_type": "execute_result"
    }
   ],
   "source": [
    "create_individual(8)"
   ]
  }
 ],
 "metadata": {
  "kernelspec": {
   "display_name": "Python 3 (ipykernel)",
   "language": "python",
   "name": "python3"
  },
  "language_info": {
   "codemirror_mode": {
    "name": "ipython",
    "version": 3
   },
   "file_extension": ".py",
   "mimetype": "text/x-python",
   "name": "python",
   "nbconvert_exporter": "python",
   "pygments_lexer": "ipython3",
   "version": "3.11.1"
  }
 },
 "nbformat": 4,
 "nbformat_minor": 5
}
