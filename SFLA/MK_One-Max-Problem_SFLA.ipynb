{
 "cells": [
  {
   "cell_type": "code",
   "execution_count": 1,
   "id": "1a450254",
   "metadata": {},
   "outputs": [
    {
     "name": "stdout",
     "output_type": "stream",
     "text": [
      "Best solution: [1, 1, 1, 1, 1, 1, 1, 1, 1, 1, 1, 1, 1, 1, 1, 1, 1, 1, 1, 1]\n",
      "Fitness: 20\n"
     ]
    }
   ],
   "source": [
    "import random\n",
    "\n",
    "\n",
    "def generate_random_binary_string(length):\n",
    "    \"\"\"Generate a random binary string of a given length.\"\"\"\n",
    "    return [random.choice([0, 1]) for _ in range(length)]\n",
    "\n",
    "def calculate_fitness(binary_string):\n",
    "    \"\"\"Calculate the fitness of a binary string (number of 1s).\"\"\"\n",
    "    return sum(binary_string)\n",
    "\n",
    "def local_search(frog, memeplex, max_iterations):\n",
    "    \"\"\"Perform local search on a frog within a memeplex.\"\"\"\n",
    "    best_frog = frog[:]\n",
    "    best_fitness = calculate_fitness(best_frog)\n",
    "    for _ in range(max_iterations):\n",
    "        new_frog = best_frog[:]\n",
    "        # Randomly flip a bit in the frog\n",
    "        flip_index = random.randint(0, len(new_frog) - 1)\n",
    "        new_frog[flip_index] = 1 - new_frog[flip_index]\n",
    "        new_fitness = calculate_fitness(new_frog)\n",
    "        if new_fitness > best_fitness:\n",
    "            best_frog = new_frog\n",
    "            best_fitness = new_fitness\n",
    "    return best_frog\n",
    "\n",
    "def shuffle_memeplex(memeplex):\n",
    "    \"\"\"Shuffle the memeplex to introduce new genetic material.\"\"\"\n",
    "    random.shuffle(memeplex)\n",
    "    return memeplex\n",
    "\n",
    "def sfla_one_max(population_size, memeplex_size, max_iterations, max_local_iterations, string_length):\n",
    "    \"\"\"Solve the One-Max problem using the Shuffled Frog Leaping Algorithm.\"\"\"\n",
    "    population = [generate_random_binary_string(string_length) for _ in range(population_size)]\n",
    "    memeplexes = [population[i:i + memeplex_size] for i in range(0, population_size, memeplex_size)]\n",
    "\n",
    "    for _ in range(max_iterations):\n",
    "        for memeplex in memeplexes:\n",
    "            for frog in memeplex:\n",
    "                new_frog = local_search(frog, memeplex, max_local_iterations)\n",
    "                if calculate_fitness(new_frog) > calculate_fitness(frog):\n",
    "                    memeplex[memeplex.index(frog)] = new_frog\n",
    "        memeplexes = [shuffle_memeplex(memeplex) for memeplex in memeplexes]\n",
    "\n",
    "    best_frog = max([frog for memeplex in memeplexes for frog in memeplex], key=calculate_fitness)\n",
    "    return best_frog\n",
    "\n",
    "# Example usage:\n",
    "population_size = 100\n",
    "memeplex_size = 10\n",
    "max_iterations = 100\n",
    "max_local_iterations = 10\n",
    "string_length = 20\n",
    "\n",
    "best_solution = sfla_one_max(population_size, memeplex_size, max_iterations, max_local_iterations, string_length)\n",
    "print(\"Best solution:\", best_solution)\n",
    "print(\"Fitness:\", calculate_fitness(best_solution))\n"
   ]
  },
  {
   "cell_type": "code",
   "execution_count": 7,
   "id": "6af3de11",
   "metadata": {},
   "outputs": [
    {
     "data": {
      "text/plain": [
       "[0, 1, 1, 1, 1, 0, 1, 1, 0, 1, 0, 1, 1, 1, 1, 0, 1, 1, 1, 0]"
      ]
     },
     "execution_count": 7,
     "metadata": {},
     "output_type": "execute_result"
    }
   ],
   "source": [
    "generate_random_binary_string(20)"
   ]
  }
 ],
 "metadata": {
  "kernelspec": {
   "display_name": "Python 3 (ipykernel)",
   "language": "python",
   "name": "python3"
  },
  "language_info": {
   "codemirror_mode": {
    "name": "ipython",
    "version": 3
   },
   "file_extension": ".py",
   "mimetype": "text/x-python",
   "name": "python",
   "nbconvert_exporter": "python",
   "pygments_lexer": "ipython3",
   "version": "3.11.1"
  }
 },
 "nbformat": 4,
 "nbformat_minor": 5
}
