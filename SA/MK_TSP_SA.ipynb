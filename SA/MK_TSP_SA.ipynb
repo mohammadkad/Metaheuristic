{
 "cells": [
  {
   "cell_type": "code",
   "execution_count": 1,
   "id": "bacbaddd",
   "metadata": {},
   "outputs": [
    {
     "ename": "TypeError",
     "evalue": "list indices must be integers or slices, not NoneType",
     "output_type": "error",
     "traceback": [
      "\u001b[1;31m---------------------------------------------------------------------------\u001b[0m",
      "\u001b[1;31mTypeError\u001b[0m                                 Traceback (most recent call last)",
      "Cell \u001b[1;32mIn[1], line 59\u001b[0m\n\u001b[0;32m     56\u001b[0m     \u001b[38;5;28mprint\u001b[39m(\u001b[38;5;124m\"\u001b[39m\u001b[38;5;124mTour distance:\u001b[39m\u001b[38;5;124m\"\u001b[39m, tour_distance)\n\u001b[0;32m     58\u001b[0m \u001b[38;5;28;01mif\u001b[39;00m \u001b[38;5;18m__name__\u001b[39m \u001b[38;5;241m==\u001b[39m \u001b[38;5;124m\"\u001b[39m\u001b[38;5;124m__main__\u001b[39m\u001b[38;5;124m\"\u001b[39m:\n\u001b[1;32m---> 59\u001b[0m     \u001b[43mmain\u001b[49m\u001b[43m(\u001b[49m\u001b[43m)\u001b[49m\n",
      "Cell \u001b[1;32mIn[1], line 52\u001b[0m, in \u001b[0;36mmain\u001b[1;34m()\u001b[0m\n\u001b[0;32m     40\u001b[0m distances \u001b[38;5;241m=\u001b[39m [\n\u001b[0;32m     41\u001b[0m     [\u001b[38;5;241m0\u001b[39m, \u001b[38;5;241m30\u001b[39m, \u001b[38;5;241m40\u001b[39m, \u001b[38;5;241m80\u001b[39m, \u001b[38;5;28mfloat\u001b[39m(\u001b[38;5;124m'\u001b[39m\u001b[38;5;124minf\u001b[39m\u001b[38;5;124m'\u001b[39m), \u001b[38;5;241m75\u001b[39m, \u001b[38;5;28mfloat\u001b[39m(\u001b[38;5;124m'\u001b[39m\u001b[38;5;124minf\u001b[39m\u001b[38;5;124m'\u001b[39m), \u001b[38;5;28mfloat\u001b[39m(\u001b[38;5;124m'\u001b[39m\u001b[38;5;124minf\u001b[39m\u001b[38;5;124m'\u001b[39m)],\n\u001b[0;32m     42\u001b[0m     [\u001b[38;5;241m30\u001b[39m, \u001b[38;5;241m0\u001b[39m, \u001b[38;5;241m20\u001b[39m, \u001b[38;5;28mfloat\u001b[39m(\u001b[38;5;124m'\u001b[39m\u001b[38;5;124minf\u001b[39m\u001b[38;5;124m'\u001b[39m), \u001b[38;5;241m60\u001b[39m, \u001b[38;5;241m35\u001b[39m, \u001b[38;5;241m40\u001b[39m, \u001b[38;5;28mfloat\u001b[39m(\u001b[38;5;124m'\u001b[39m\u001b[38;5;124minf\u001b[39m\u001b[38;5;124m'\u001b[39m)],\n\u001b[1;32m   (...)\u001b[0m\n\u001b[0;32m     48\u001b[0m     [\u001b[38;5;28mfloat\u001b[39m(\u001b[38;5;124m'\u001b[39m\u001b[38;5;124minf\u001b[39m\u001b[38;5;124m'\u001b[39m), \u001b[38;5;28mfloat\u001b[39m(\u001b[38;5;124m'\u001b[39m\u001b[38;5;124minf\u001b[39m\u001b[38;5;124m'\u001b[39m), \u001b[38;5;28mfloat\u001b[39m(\u001b[38;5;124m'\u001b[39m\u001b[38;5;124minf\u001b[39m\u001b[38;5;124m'\u001b[39m), \u001b[38;5;28mfloat\u001b[39m(\u001b[38;5;124m'\u001b[39m\u001b[38;5;124minf\u001b[39m\u001b[38;5;124m'\u001b[39m), \u001b[38;5;241m35\u001b[39m, \u001b[38;5;241m55\u001b[39m, \u001b[38;5;241m25\u001b[39m, \u001b[38;5;241m0\u001b[39m]\n\u001b[0;32m     49\u001b[0m ]\n\u001b[0;32m     51\u001b[0m start_city \u001b[38;5;241m=\u001b[39m \u001b[38;5;241m0\u001b[39m\n\u001b[1;32m---> 52\u001b[0m tour \u001b[38;5;241m=\u001b[39m \u001b[43mnearest_neighbor\u001b[49m\u001b[43m(\u001b[49m\u001b[43mstart_city\u001b[49m\u001b[43m,\u001b[49m\u001b[43m \u001b[49m\u001b[43mdistances\u001b[49m\u001b[43m)\u001b[49m\n\u001b[0;32m     53\u001b[0m tour_distance \u001b[38;5;241m=\u001b[39m calculate_tour_distance(tour, distances)\n\u001b[0;32m     55\u001b[0m \u001b[38;5;28mprint\u001b[39m(\u001b[38;5;124m\"\u001b[39m\u001b[38;5;124mTour:\u001b[39m\u001b[38;5;124m\"\u001b[39m, tour)\n",
      "Cell \u001b[1;32mIn[1], line 22\u001b[0m, in \u001b[0;36mnearest_neighbor\u001b[1;34m(start_city, distances)\u001b[0m\n\u001b[0;32m     19\u001b[0m         min_distance \u001b[38;5;241m=\u001b[39m distance(current_city, city, distances)\n\u001b[0;32m     20\u001b[0m         next_city \u001b[38;5;241m=\u001b[39m city\n\u001b[1;32m---> 22\u001b[0m \u001b[43mvisited\u001b[49m\u001b[43m[\u001b[49m\u001b[43mnext_city\u001b[49m\u001b[43m]\u001b[49m \u001b[38;5;241m=\u001b[39m \u001b[38;5;28;01mTrue\u001b[39;00m\n\u001b[0;32m     23\u001b[0m tour\u001b[38;5;241m.\u001b[39mappend(next_city)\n\u001b[0;32m     24\u001b[0m current_city \u001b[38;5;241m=\u001b[39m next_city\n",
      "\u001b[1;31mTypeError\u001b[0m: list indices must be integers or slices, not NoneType"
     ]
    }
   ],
   "source": [
    "import math\n",
    "\n",
    "def distance(city1, city2, distances):\n",
    "    return distances[city1][city2]\n",
    "\n",
    "def nearest_neighbor(start_city, distances):\n",
    "    num_cities = len(distances)\n",
    "    visited = [False] * num_cities\n",
    "    visited[start_city] = True\n",
    "    current_city = start_city\n",
    "    tour = [start_city]\n",
    "\n",
    "    for _ in range(num_cities - 1):\n",
    "        min_distance = float('inf')\n",
    "        next_city = None\n",
    "\n",
    "        for city in range(num_cities):\n",
    "            if not visited[city] and distance(current_city, city, distances) < min_distance:\n",
    "                min_distance = distance(current_city, city, distances)\n",
    "                next_city = city\n",
    "\n",
    "        visited[next_city] = True\n",
    "        tour.append(next_city)\n",
    "        current_city = next_city\n",
    "\n",
    "    # Close the tour by returning to the start city\n",
    "    tour.append(start_city)\n",
    "\n",
    "    return tour\n",
    "\n",
    "def calculate_tour_distance(tour, distances):\n",
    "    total_distance = 0\n",
    "\n",
    "    for i in range(len(tour) - 1):\n",
    "        total_distance += distance(tour[i], tour[i + 1], distances)\n",
    "\n",
    "    return total_distance\n",
    "\n",
    "def main():\n",
    "    distances = [\n",
    "        [0, 30, 40, 80, float('inf'), 75, float('inf'), float('inf')],\n",
    "        [30, 0, 20, float('inf'), 60, 35, 40, float('inf')],\n",
    "        [40, 20, 0, 50, 10, float('inf'), float('inf'), float('inf')],\n",
    "        [80, float('inf'), 50, 0, 70, float('inf'), float('inf'), float('inf')],\n",
    "        [float('inf'), 60, 10, 70, 0, float('inf'), 15, 35],\n",
    "        [75, 35, float('inf'), float('inf'), float('inf'), 0, 45, 55],\n",
    "        [float('inf'), 40, float('inf'), float('inf'), 15, 45, 0, 25],\n",
    "        [float('inf'), float('inf'), float('inf'), float('inf'), 35, 55, 25, 0]\n",
    "    ]\n",
    "\n",
    "    start_city = 0\n",
    "    tour = nearest_neighbor(start_city, distances)\n",
    "    tour_distance = calculate_tour_distance(tour, distances)\n",
    "\n",
    "    print(\"Tour:\", tour)\n",
    "    print(\"Tour distance:\", tour_distance)\n",
    "\n",
    "if __name__ == \"__main__\":\n",
    "    main()\n"
   ]
  }
 ],
 "metadata": {
  "kernelspec": {
   "display_name": "Python 3 (ipykernel)",
   "language": "python",
   "name": "python3"
  },
  "language_info": {
   "codemirror_mode": {
    "name": "ipython",
    "version": 3
   },
   "file_extension": ".py",
   "mimetype": "text/x-python",
   "name": "python",
   "nbconvert_exporter": "python",
   "pygments_lexer": "ipython3",
   "version": "3.11.1"
  }
 },
 "nbformat": 4,
 "nbformat_minor": 5
}
