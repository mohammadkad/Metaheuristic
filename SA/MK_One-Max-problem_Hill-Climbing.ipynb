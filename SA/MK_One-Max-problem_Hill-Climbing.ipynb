{
 "cells": [
  {
   "cell_type": "code",
   "execution_count": 1,
   "id": "543a77c6",
   "metadata": {},
   "outputs": [
    {
     "name": "stdout",
     "output_type": "stream",
     "text": [
      "Individual: [1, 1, 1, 1, 1, 1, 1, 1, 1, 1, 1, 1, 1, 1, 1, 1, 1, 1, 1, 1]\n",
      "Fitness: 20\n"
     ]
    }
   ],
   "source": [
    "import random\n",
    "\n",
    "def one_max_problem(size):\n",
    "    # Generate a random binary string of the given size\n",
    "    return [random.choice([0, 1]) for _ in range(size)]\n",
    "\n",
    "def fitness(individual):\n",
    "    # The fitness function for the One-Max problem is the number of 1s in the binary string\n",
    "    return sum(individual)\n",
    "\n",
    "def mutate(individual):\n",
    "    # Randomly flip a bit in the binary string\n",
    "    index = random.randint(0, len(individual) - 1)\n",
    "    individual[index] = 1 - individual[index]\n",
    "    return individual\n",
    "\n",
    "def hill_climbing(size, max_iterations):\n",
    "    # Initialize the current individual\n",
    "    current_individual = one_max_problem(size)\n",
    "    current_fitness = fitness(current_individual)\n",
    "\n",
    "    for _ in range(max_iterations):\n",
    "        # Generate a new individual by mutating the current individual\n",
    "        new_individual = mutate(current_individual[:])\n",
    "        new_fitness = fitness(new_individual)\n",
    "\n",
    "        # If the new individual is better, accept it\n",
    "        if new_fitness > current_fitness:\n",
    "            current_individual = new_individual\n",
    "            current_fitness = new_fitness\n",
    "\n",
    "        # If the current individual is already optimal, stop\n",
    "        if current_fitness == size:\n",
    "            break\n",
    "\n",
    "    return current_individual, current_fitness\n",
    "\n",
    "# Example usage\n",
    "size = 20\n",
    "max_iterations = 1000\n",
    "individual, fitness = hill_climbing(size, max_iterations)\n",
    "print(\"Individual:\", individual)\n",
    "print(\"Fitness:\", fitness)\n"
   ]
  }
 ],
 "metadata": {
  "kernelspec": {
   "display_name": "Python 3 (ipykernel)",
   "language": "python",
   "name": "python3"
  },
  "language_info": {
   "codemirror_mode": {
    "name": "ipython",
    "version": 3
   },
   "file_extension": ".py",
   "mimetype": "text/x-python",
   "name": "python",
   "nbconvert_exporter": "python",
   "pygments_lexer": "ipython3",
   "version": "3.11.1"
  }
 },
 "nbformat": 4,
 "nbformat_minor": 5
}
