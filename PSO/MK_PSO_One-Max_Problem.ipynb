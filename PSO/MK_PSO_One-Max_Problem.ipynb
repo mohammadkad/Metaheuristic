{
 "cells": [
  {
   "cell_type": "code",
   "execution_count": 7,
   "id": "bc973600",
   "metadata": {},
   "outputs": [
    {
     "name": "stdout",
     "output_type": "stream",
     "text": [
      "Best solution: [1. 1. 1. 1. 0. 1. 1. 1. 0. 0. 0. 0. 1. 1. 1. 1. 1. 1. 1. 1. 1. 0. 0. 1.\n",
      " 1. 1. 1. 1. 1. 1. 1. 1. 1. 1. 1. 1. 1. 1. 1. 1. 1. 1. 1. 1. 1. 0. 1. 1.\n",
      " 0. 1. 1. 1. 1. 1. 1. 0. 1. 1. 1. 1. 1. 1. 1. 1. 1. 1. 1. 0. 1. 1. 0. 0.\n",
      " 1. 1. 1. 1. 1. 1. 1. 1. 1. 1. 1. 1. 0. 1. 1. 0. 1. 0. 1. 1. 1. 1. 1. 1.\n",
      " 1. 1. 1. 1.]\n",
      "Best fitness: 84.0\n"
     ]
    }
   ],
   "source": [
    "import numpy as np\n",
    "import random\n",
    "\n",
    "class Particle:\n",
    "    def __init__(self, dim, bounds):\n",
    "        self.dim = dim\n",
    "        self.bounds = bounds\n",
    "        self.position = np.random.randint(0, 2, size=dim)\n",
    "        self.velocity = np.random.uniform(-1, 1, size=dim)\n",
    "        self.best_position = self.position.copy()\n",
    "        self.best_fitness = self.fitness()\n",
    "\n",
    "    def fitness(self):\n",
    "        return np.sum(self.position)\n",
    "\n",
    "    def update_velocity(self, gbest, w, c1, c2):\n",
    "        r1 = np.random.uniform(0, 1, size=self.dim)\n",
    "        r2 = np.random.uniform(0, 1, size=self.dim)\n",
    "        self.velocity = w * self.velocity + c1 * r1 * (self.best_position - self.position) + c2 * r2 * (gbest - self.position)\n",
    "\n",
    "    def update_position(self):\n",
    "        self.position = np.clip(self.position + self.velocity, 0, 1)\n",
    "        self.position = np.round(self.position)\n",
    "\n",
    "    def update_best(self):\n",
    "        fitness = self.fitness()\n",
    "        if fitness > self.best_fitness:\n",
    "            self.best_fitness = fitness\n",
    "            self.best_position = self.position.copy()\n",
    "\n",
    "\n",
    "class PSO:\n",
    "    def __init__(self, dim, bounds, num_particles, w, c1, c2):\n",
    "        self.dim = dim\n",
    "        self.bounds = bounds\n",
    "        self.num_particles = num_particles\n",
    "        self.w = w\n",
    "        self.c1 = c1\n",
    "        self.c2 = c2\n",
    "        self.particles = [Particle(dim, bounds) for _ in range(num_particles)]\n",
    "        self.gbest = np.zeros(dim)\n",
    "        self.gbest_fitness = 0\n",
    "\n",
    "    def optimize(self, max_iter):\n",
    "        for _ in range(max_iter):\n",
    "            for particle in self.particles:\n",
    "                particle.update_velocity(self.gbest, self.w, self.c1, self.c2)\n",
    "                particle.update_position()\n",
    "                particle.update_best()\n",
    "                if particle.best_fitness > self.gbest_fitness:\n",
    "                    self.gbest_fitness = particle.best_fitness\n",
    "                    self.gbest = particle.best_position.copy()\n",
    "        return self.gbest, self.gbest_fitness\n",
    "\n",
    "\n",
    "# Parameters\n",
    "dim = 100\n",
    "bounds = (0, 1)\n",
    "num_particles = 50\n",
    "w = 0.8\n",
    "c1 = 1.0\n",
    "c2 = 1.0\n",
    "max_iter = 100\n",
    "\n",
    "# Run PSO\n",
    "pso = PSO(dim, bounds, num_particles, w, c1, c2)\n",
    "gbest, gbest_fitness = pso.optimize(max_iter)\n",
    "\n",
    "print(\"Best solution:\", gbest)\n",
    "print(\"Best fitness:\", gbest_fitness)\n"
   ]
  }
 ],
 "metadata": {
  "kernelspec": {
   "display_name": "Python 3 (ipykernel)",
   "language": "python",
   "name": "python3"
  },
  "language_info": {
   "codemirror_mode": {
    "name": "ipython",
    "version": 3
   },
   "file_extension": ".py",
   "mimetype": "text/x-python",
   "name": "python",
   "nbconvert_exporter": "python",
   "pygments_lexer": "ipython3",
   "version": "3.11.1"
  }
 },
 "nbformat": 4,
 "nbformat_minor": 5
}
