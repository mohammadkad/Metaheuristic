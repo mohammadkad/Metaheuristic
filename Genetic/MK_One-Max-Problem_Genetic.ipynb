{
 "cells": [
  {
   "cell_type": "code",
   "execution_count": 5,
   "id": "19ac5ec1",
   "metadata": {},
   "outputs": [
    {
     "name": "stdout",
     "output_type": "stream",
     "text": [
      "Best individual: [1, 1, 1, 1, 1, 1, 1, 1, 1, 1, 1, 1, 1, 1, 1, 1, 1, 1, 1, 1]\n",
      "Fitness: 20\n"
     ]
    }
   ],
   "source": [
    "import random\n",
    "import operator\n",
    "import numpy as np\n",
    "\n",
    "# Define the population size and the number of generations\n",
    "population_size = 100\n",
    "generations = 100\n",
    "\n",
    "# Define the length of the binary string\n",
    "n = 20\n",
    "\n",
    "# Define the mutation probability\n",
    "mutation_probability = 0.01\n",
    "\n",
    "# Define the tournament selection size\n",
    "tournament_size = 5\n",
    "\n",
    "# Define the fitness function\n",
    "def fitness(individual):\n",
    "    # Count the number of ones in the individual\n",
    "    return sum(individual)\n",
    "\n",
    "# Initialize the population\n",
    "population = [[random.randint(0, 1) for _ in range(n)] for _ in range(population_size)]\n",
    "\n",
    "# Evolve the population\n",
    "for generation in range(generations):\n",
    "    # Evaluate the fitness of each individual\n",
    "    fitnesses = [fitness(individual) for individual in population]\n",
    "    \n",
    "    # Select the parents using tournament selection\n",
    "    parents = []\n",
    "    for _ in range(population_size):\n",
    "        tournament = random.sample(list(zip(population, fitnesses)), tournament_size)\n",
    "        winner = max(tournament, key=operator.itemgetter(1))[0]\n",
    "        parents.append(winner)\n",
    "    \n",
    "    # Crossover (single-point crossover)\n",
    "    offspring = []\n",
    "    for _ in range(population_size):\n",
    "        parent1, parent2 = random.sample(parents, 2)\n",
    "        crossover_point = random.randint(1, n - 1)\n",
    "        child = parent1[:crossover_point] + parent2[crossover_point:]\n",
    "        offspring.append(child)\n",
    "    \n",
    "    # Mutate the offspring\n",
    "    for i in range(population_size):\n",
    "        if random.random() < mutation_probability:\n",
    "            mutation_point = random.randint(0, n - 1)\n",
    "            offspring[i][mutation_point] = 1 - offspring[i][mutation_point]\n",
    "    \n",
    "    # Replace the population with the offspring\n",
    "    population = offspring\n",
    "\n",
    "# Evaluate the fitness of each individual in the final population\n",
    "fitnesses = [fitness(individual) for individual in population]\n",
    "\n",
    "# Select the best individual\n",
    "best_individual = population[np.argmax(fitnesses)]\n",
    "\n",
    "print(\"Best individual:\", best_individual)\n",
    "print(\"Fitness:\", fitness(best_individual))\n"
   ]
  }
 ],
 "metadata": {
  "kernelspec": {
   "display_name": "Python 3 (ipykernel)",
   "language": "python",
   "name": "python3"
  },
  "language_info": {
   "codemirror_mode": {
    "name": "ipython",
    "version": 3
   },
   "file_extension": ".py",
   "mimetype": "text/x-python",
   "name": "python",
   "nbconvert_exporter": "python",
   "pygments_lexer": "ipython3",
   "version": "3.11.1"
  }
 },
 "nbformat": 4,
 "nbformat_minor": 5
}
